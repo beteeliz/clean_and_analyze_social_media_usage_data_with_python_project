{
 "cells": [
  {
   "cell_type": "markdown",
   "id": "930924d0-680e-4acc-9ac1-b781b88f606d",
   "metadata": {},
   "source": [
    "# Social Media Project with Python"
   ]
  },
  {
   "cell_type": "code",
   "execution_count": 57,
   "id": "e8d97955-5de4-4a23-b17d-604353e077fd",
   "metadata": {},
   "outputs": [],
   "source": [
    "import pandas\n",
    "import numpy\n",
    "import matplotlib.pyplot as pyplot\n",
    "import seaborn\n",
    "import random"
   ]
  },
  {
   "cell_type": "code",
   "execution_count": 58,
   "id": "d2395b5a-fa65-44bf-af87-f631cc6ce19d",
   "metadata": {},
   "outputs": [],
   "source": [
    "categories = ['Food', 'Travel', 'Fashion', 'Fitness', 'Music', 'Culture', 'Family', 'Health']"
   ]
  },
  {
   "cell_type": "code",
   "execution_count": 59,
   "id": "4d03dc49-2ed7-43f8-9fd9-960ff11857b6",
   "metadata": {},
   "outputs": [],
   "source": [
    "# Simulating social media data fetch\n",
    "data = {\n",
    "    'Date': pd.date_range(start='2021-01-01', periods=500),\n",
    "    'Category': [random.choice(categories) for _ in range(500)],\n",
    "    'Likes': np.random.randint(0, 10000, size=500)\n",
    "}"
   ]
  },
  {
   "cell_type": "code",
   "execution_count": 60,
   "id": "6322cc4c-6cd7-4ea1-a266-a873c1b1919c",
   "metadata": {},
   "outputs": [],
   "source": [
    "data_frame = pandas.DataFrame(data)"
   ]
  },
  {
   "cell_type": "code",
   "execution_count": 61,
   "id": "03ea7095-3c5b-494d-aa14-601ffcea9d63",
   "metadata": {},
   "outputs": [],
   "source": [
    "data_frame.to_csv('social_media_data.csv', index=False)"
   ]
  },
  {
   "cell_type": "code",
   "execution_count": 62,
   "id": "748eb874-3c56-497f-a307-7772ccd3bf89",
   "metadata": {},
   "outputs": [
    {
     "data": {
      "text/html": [
       "<div>\n",
       "<style scoped>\n",
       "    .dataframe tbody tr th:only-of-type {\n",
       "        vertical-align: middle;\n",
       "    }\n",
       "\n",
       "    .dataframe tbody tr th {\n",
       "        vertical-align: top;\n",
       "    }\n",
       "\n",
       "    .dataframe thead th {\n",
       "        text-align: right;\n",
       "    }\n",
       "</style>\n",
       "<table border=\"1\" class=\"dataframe\">\n",
       "  <thead>\n",
       "    <tr style=\"text-align: right;\">\n",
       "      <th></th>\n",
       "      <th>Date</th>\n",
       "      <th>Category</th>\n",
       "      <th>Likes</th>\n",
       "    </tr>\n",
       "  </thead>\n",
       "  <tbody>\n",
       "    <tr>\n",
       "      <th>0</th>\n",
       "      <td>2021-01-01</td>\n",
       "      <td>Food</td>\n",
       "      <td>975</td>\n",
       "    </tr>\n",
       "    <tr>\n",
       "      <th>1</th>\n",
       "      <td>2021-01-02</td>\n",
       "      <td>Family</td>\n",
       "      <td>3358</td>\n",
       "    </tr>\n",
       "    <tr>\n",
       "      <th>2</th>\n",
       "      <td>2021-01-03</td>\n",
       "      <td>Culture</td>\n",
       "      <td>2308</td>\n",
       "    </tr>\n",
       "    <tr>\n",
       "      <th>3</th>\n",
       "      <td>2021-01-04</td>\n",
       "      <td>Travel</td>\n",
       "      <td>782</td>\n",
       "    </tr>\n",
       "    <tr>\n",
       "      <th>4</th>\n",
       "      <td>2021-01-05</td>\n",
       "      <td>Travel</td>\n",
       "      <td>2162</td>\n",
       "    </tr>\n",
       "  </tbody>\n",
       "</table>\n",
       "</div>"
      ],
      "text/plain": [
       "        Date Category  Likes\n",
       "0 2021-01-01     Food    975\n",
       "1 2021-01-02   Family   3358\n",
       "2 2021-01-03  Culture   2308\n",
       "3 2021-01-04   Travel    782\n",
       "4 2021-01-05   Travel   2162"
      ]
     },
     "execution_count": 62,
     "metadata": {},
     "output_type": "execute_result"
    }
   ],
   "source": [
    "data_frame.head()"
   ]
  },
  {
   "cell_type": "code",
   "execution_count": 63,
   "id": "68a7c801-818d-4aa8-b0ce-3b95f39c1fef",
   "metadata": {},
   "outputs": [
    {
     "name": "stdout",
     "output_type": "stream",
     "text": [
      "<class 'pandas.core.frame.DataFrame'>\n",
      "RangeIndex: 500 entries, 0 to 499\n",
      "Data columns (total 3 columns):\n",
      " #   Column    Non-Null Count  Dtype         \n",
      "---  ------    --------------  -----         \n",
      " 0   Date      500 non-null    datetime64[ns]\n",
      " 1   Category  500 non-null    object        \n",
      " 2   Likes     500 non-null    int64         \n",
      "dtypes: datetime64[ns](1), int64(1), object(1)\n",
      "memory usage: 11.8+ KB\n"
     ]
    }
   ],
   "source": [
    "data_frame.info()"
   ]
  },
  {
   "cell_type": "code",
   "execution_count": 64,
   "id": "89c56956-2ca9-4271-be96-91480559791f",
   "metadata": {},
   "outputs": [
    {
     "data": {
      "text/html": [
       "<div>\n",
       "<style scoped>\n",
       "    .dataframe tbody tr th:only-of-type {\n",
       "        vertical-align: middle;\n",
       "    }\n",
       "\n",
       "    .dataframe tbody tr th {\n",
       "        vertical-align: top;\n",
       "    }\n",
       "\n",
       "    .dataframe thead th {\n",
       "        text-align: right;\n",
       "    }\n",
       "</style>\n",
       "<table border=\"1\" class=\"dataframe\">\n",
       "  <thead>\n",
       "    <tr style=\"text-align: right;\">\n",
       "      <th></th>\n",
       "      <th>Date</th>\n",
       "      <th>Likes</th>\n",
       "    </tr>\n",
       "  </thead>\n",
       "  <tbody>\n",
       "    <tr>\n",
       "      <th>count</th>\n",
       "      <td>500</td>\n",
       "      <td>500.000000</td>\n",
       "    </tr>\n",
       "    <tr>\n",
       "      <th>mean</th>\n",
       "      <td>2021-09-07 12:00:00</td>\n",
       "      <td>4852.722000</td>\n",
       "    </tr>\n",
       "    <tr>\n",
       "      <th>min</th>\n",
       "      <td>2021-01-01 00:00:00</td>\n",
       "      <td>21.000000</td>\n",
       "    </tr>\n",
       "    <tr>\n",
       "      <th>25%</th>\n",
       "      <td>2021-05-05 18:00:00</td>\n",
       "      <td>2159.250000</td>\n",
       "    </tr>\n",
       "    <tr>\n",
       "      <th>50%</th>\n",
       "      <td>2021-09-07 12:00:00</td>\n",
       "      <td>4719.000000</td>\n",
       "    </tr>\n",
       "    <tr>\n",
       "      <th>75%</th>\n",
       "      <td>2022-01-10 06:00:00</td>\n",
       "      <td>7707.500000</td>\n",
       "    </tr>\n",
       "    <tr>\n",
       "      <th>max</th>\n",
       "      <td>2022-05-15 00:00:00</td>\n",
       "      <td>9987.000000</td>\n",
       "    </tr>\n",
       "    <tr>\n",
       "      <th>std</th>\n",
       "      <td>NaN</td>\n",
       "      <td>3022.173905</td>\n",
       "    </tr>\n",
       "  </tbody>\n",
       "</table>\n",
       "</div>"
      ],
      "text/plain": [
       "                      Date        Likes\n",
       "count                  500   500.000000\n",
       "mean   2021-09-07 12:00:00  4852.722000\n",
       "min    2021-01-01 00:00:00    21.000000\n",
       "25%    2021-05-05 18:00:00  2159.250000\n",
       "50%    2021-09-07 12:00:00  4719.000000\n",
       "75%    2022-01-10 06:00:00  7707.500000\n",
       "max    2022-05-15 00:00:00  9987.000000\n",
       "std                    NaN  3022.173905"
      ]
     },
     "execution_count": 64,
     "metadata": {},
     "output_type": "execute_result"
    }
   ],
   "source": [
    "data_frame.describe()"
   ]
  },
  {
   "cell_type": "code",
   "execution_count": 65,
   "id": "cb37f117-5386-405c-99c6-fa44b46331a7",
   "metadata": {},
   "outputs": [
    {
     "data": {
      "text/plain": [
       "Date        Category  Likes\n",
       "2022-05-15  Health    9847     1\n",
       "2021-01-01  Food      975      1\n",
       "2021-01-02  Family    3358     1\n",
       "2021-01-03  Culture   2308     1\n",
       "2021-01-04  Travel    782      1\n",
       "                              ..\n",
       "2021-01-24  Health    2975     1\n",
       "2021-01-25  Fitness   9050     1\n",
       "2021-01-26  Food      1712     1\n",
       "2021-01-27  Food      1351     1\n",
       "2021-01-28  Culture   2650     1\n",
       "Name: count, Length: 500, dtype: int64"
      ]
     },
     "execution_count": 65,
     "metadata": {},
     "output_type": "execute_result"
    }
   ],
   "source": [
    "data_frame.value_counts()"
   ]
  },
  {
   "cell_type": "code",
   "execution_count": 66,
   "id": "1c1d9227-ac22-4408-8ea7-0fb936e3991e",
   "metadata": {},
   "outputs": [],
   "source": [
    "data_frame.dropna(inplace=True)\n",
    "data_frame.drop_duplicates(inplace=True)\n",
    "data_frame['Date'] = pd.to_datetime(df['Date'])\n",
    "data_frame['Likes'] = df['Likes'].astype(int)"
   ]
  },
  {
   "cell_type": "code",
   "execution_count": 67,
   "id": "789a75cf-c7eb-4811-9913-9cc641adae60",
   "metadata": {},
   "outputs": [
    {
     "data": {
      "image/png": "[encoded data removed]",
      "text/plain": [
       "<Figure size 640x480 with 1 Axes>"
      ]
     },
     "metadata": {},
     "output_type": "display_data"
    }
   ],
   "source": [
    "# Histogram of Likes\n",
    "seaborn.histplot(df['Likes'], bins=10, kde=True, edgecolor=\"black\")\n",
    "pyplot.title('Distribution of Likes')\n",
    "pyplot.xlabel('Likes')\n",
    "pyplot.ylabel('Frequency')\n",
    "pyplot.show()"
   ]
  },
  {
   "cell_type": "code",
   "execution_count": 68,
   "id": "03a28bdf-0973-4e10-8d35-dcff9c6c0732",
   "metadata": {},
   "outputs": [
    {
     "data": {
      "image/png": "[encoded data removed]",
      "text/plain": [
       "<Figure size 1000x600 with 1 Axes>"
      ]
     },
     "metadata": {},
     "output_type": "display_data"
    }
   ],
   "source": [
    "# Creating a boxplot for 'Category' vs 'Likes'\n",
    "plt.figure(figsize=(10, 6))\n",
    "sns.boxplot(data=df, x='Category', y='Likes', hue='Category', palette='Set1', legend=False)\n",
    "plt.title('Boxplot of Likes by Category')\n",
    "plt.xticks(rotation=45)\n",
    "plt.show()"
   ]
  },
  {
   "cell_type": "code",
   "execution_count": 71,
   "id": "7090302e-bdec-42f9-8965-403d654b994a",
   "metadata": {},
   "outputs": [
    {
     "name": "stdout",
     "output_type": "stream",
     "text": [
      "Overall Mean Likes: 5089.45\n",
      "\n",
      "Mean Likes by Category:\n",
      "Category\n",
      "Culture    5344.511111\n",
      "Family     4938.966667\n",
      "Fashion    5255.096774\n",
      "Fitness    4677.554054\n",
      "Food       5442.380952\n",
      "Health     4544.700000\n",
      "Music      5639.864407\n",
      "Travel     5034.090909\n",
      "Name: Likes, dtype: float64\n"
     ]
    }
   ],
   "source": [
    "# Stats\n",
    "print(\"Overall Mean Likes:\", data_frame['Likes'].mean())\n",
    "print(\"\\nMean Likes by Category:\")\n",
    "print(data_frame.groupby('Category') ['Likes'].mean())"
   ]
  },
  {
   "cell_type": "code",
   "execution_count": null,
   "id": "1f046d5f-4749-48cd-b8db-eb3398019d4d",
   "metadata": {},
   "outputs": [],
   "source": []
  },
  {
   "cell_type": "code",
   "execution_count": null,
   "id": "0ce18444-08c1-44f9-8aa7-0531119225b5",
   "metadata": {},
   "outputs": [],
   "source": []
  }
 ],
 "metadata": {
  "kernelspec": {
   "display_name": "Python 3 (ipykernel)",
   "language": "python",
   "name": "python3"
  },
  "language_info": {
   "codemirror_mode": {
    "name": "ipython",
    "version": 3
   },
   "file_extension": ".py",
   "mimetype": "text/x-python",
   "name": "python",
   "nbconvert_exporter": "python",
   "pygments_lexer": "ipython3",
   "version": "3.12.7"
  }
 },
 "nbformat": 4,
 "nbformat_minor": 5
}
